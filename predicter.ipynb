{
 "cells": [
  {
   "cell_type": "code",
   "execution_count": 54,
   "metadata": {
    "collapsed": false,
    "deletable": true,
    "editable": true
   },
   "outputs": [],
   "source": [
    "import numpy as np\n",
    "import sklearn\n",
    "import cv2\n",
    "import keras\n",
    "from keras.models import Sequential\n",
    "from keras.layers import *\n",
    "from keras.models import load_model\n",
    "from scipy import statsc"
   ]
  },
  {
   "cell_type": "code",
   "execution_count": 55,
   "metadata": {
    "collapsed": true
   },
   "outputs": [],
   "source": [
    "cap0 = cv2.VideoCapture(0)\n",
    "cap0.set(3,160)\n",
    "cap0.set(4,120)\n",
    "cap1 = cv2.VideoCapture(1)\n",
    "cap1.set(3,160)\n",
    "cap1.set(4,120)\n",
    "cap2 = cv2.VideoCapture(2)\n",
    "cap1.set(3,160)\n",
    "cap1.set(4,120)\n",
    "ret0, frame0 = cap0.read()\n",
    "assert ret0\n",
    "ret1, frame1 = cap1.read()\n",
    "assert ret1 \n",
    "ret2, frame2 = cap2.read()\n",
    "assert ret2 "
   ]
  },
  {
   "cell_type": "code",
   "execution_count": 5,
   "metadata": {
    "collapsed": false,
    "deletable": true,
    "editable": true
   },
   "outputs": [
    {
     "ename": "OSError",
     "evalue": "Unable to open file (Unable to open file: name = '/users/willbuxton/data/model.h5', errno = 2, error message = 'no such file or directory', flags = 0, o_flags = 0)",
     "output_type": "error",
     "traceback": [
      "\u001b[0;31m---------------------------------------------------------------------------\u001b[0m",
      "\u001b[0;31mOSError\u001b[0m                                   Traceback (most recent call last)",
      "\u001b[0;32m<ipython-input-5-4ce8b2996c2a>\u001b[0m in \u001b[0;36m<module>\u001b[0;34m()\u001b[0m\n\u001b[0;32m----> 1\u001b[0;31m \u001b[0mmodel\u001b[0m \u001b[0;34m=\u001b[0m \u001b[0mload_model\u001b[0m\u001b[0;34m(\u001b[0m\u001b[0;34m\"/Users/willbuxton/data/model.h5\"\u001b[0m\u001b[0;34m)\u001b[0m\u001b[0;34m\u001b[0m\u001b[0m\n\u001b[0m",
      "\u001b[0;32m/Users/willbuxton/anaconda3/envs/carnd-term1/lib/python3.5/site-packages/keras/models.py\u001b[0m in \u001b[0;36mload_model\u001b[0;34m(filepath, custom_objects)\u001b[0m\n\u001b[1;32m    133\u001b[0m \u001b[0;34m\u001b[0m\u001b[0m\n\u001b[1;32m    134\u001b[0m     \u001b[0;32mimport\u001b[0m \u001b[0mh5py\u001b[0m\u001b[0;34m\u001b[0m\u001b[0m\n\u001b[0;32m--> 135\u001b[0;31m     \u001b[0mf\u001b[0m \u001b[0;34m=\u001b[0m \u001b[0mh5py\u001b[0m\u001b[0;34m.\u001b[0m\u001b[0mFile\u001b[0m\u001b[0;34m(\u001b[0m\u001b[0mfilepath\u001b[0m\u001b[0;34m,\u001b[0m \u001b[0mmode\u001b[0m\u001b[0;34m=\u001b[0m\u001b[0;34m'r'\u001b[0m\u001b[0;34m)\u001b[0m\u001b[0;34m\u001b[0m\u001b[0m\n\u001b[0m\u001b[1;32m    136\u001b[0m \u001b[0;34m\u001b[0m\u001b[0m\n\u001b[1;32m    137\u001b[0m     \u001b[0;31m# instantiate model\u001b[0m\u001b[0;34m\u001b[0m\u001b[0;34m\u001b[0m\u001b[0m\n",
      "\u001b[0;32m/Users/willbuxton/anaconda3/envs/carnd-term1/lib/python3.5/site-packages/h5py/_hl/files.py\u001b[0m in \u001b[0;36m__init__\u001b[0;34m(self, name, mode, driver, libver, userblock_size, swmr, **kwds)\u001b[0m\n\u001b[1;32m    270\u001b[0m \u001b[0;34m\u001b[0m\u001b[0m\n\u001b[1;32m    271\u001b[0m                 \u001b[0mfapl\u001b[0m \u001b[0;34m=\u001b[0m \u001b[0mmake_fapl\u001b[0m\u001b[0;34m(\u001b[0m\u001b[0mdriver\u001b[0m\u001b[0;34m,\u001b[0m \u001b[0mlibver\u001b[0m\u001b[0;34m,\u001b[0m \u001b[0;34m**\u001b[0m\u001b[0mkwds\u001b[0m\u001b[0;34m)\u001b[0m\u001b[0;34m\u001b[0m\u001b[0m\n\u001b[0;32m--> 272\u001b[0;31m                 \u001b[0mfid\u001b[0m \u001b[0;34m=\u001b[0m \u001b[0mmake_fid\u001b[0m\u001b[0;34m(\u001b[0m\u001b[0mname\u001b[0m\u001b[0;34m,\u001b[0m \u001b[0mmode\u001b[0m\u001b[0;34m,\u001b[0m \u001b[0muserblock_size\u001b[0m\u001b[0;34m,\u001b[0m \u001b[0mfapl\u001b[0m\u001b[0;34m,\u001b[0m \u001b[0mswmr\u001b[0m\u001b[0;34m=\u001b[0m\u001b[0mswmr\u001b[0m\u001b[0;34m)\u001b[0m\u001b[0;34m\u001b[0m\u001b[0m\n\u001b[0m\u001b[1;32m    273\u001b[0m \u001b[0;34m\u001b[0m\u001b[0m\n\u001b[1;32m    274\u001b[0m                 \u001b[0;32mif\u001b[0m \u001b[0mswmr_support\u001b[0m\u001b[0;34m:\u001b[0m\u001b[0;34m\u001b[0m\u001b[0m\n",
      "\u001b[0;32m/Users/willbuxton/anaconda3/envs/carnd-term1/lib/python3.5/site-packages/h5py/_hl/files.py\u001b[0m in \u001b[0;36mmake_fid\u001b[0;34m(name, mode, userblock_size, fapl, fcpl, swmr)\u001b[0m\n\u001b[1;32m     90\u001b[0m         \u001b[0;32mif\u001b[0m \u001b[0mswmr\u001b[0m \u001b[0;32mand\u001b[0m \u001b[0mswmr_support\u001b[0m\u001b[0;34m:\u001b[0m\u001b[0;34m\u001b[0m\u001b[0m\n\u001b[1;32m     91\u001b[0m             \u001b[0mflags\u001b[0m \u001b[0;34m|=\u001b[0m \u001b[0mh5f\u001b[0m\u001b[0;34m.\u001b[0m\u001b[0mACC_SWMR_READ\u001b[0m\u001b[0;34m\u001b[0m\u001b[0m\n\u001b[0;32m---> 92\u001b[0;31m         \u001b[0mfid\u001b[0m \u001b[0;34m=\u001b[0m \u001b[0mh5f\u001b[0m\u001b[0;34m.\u001b[0m\u001b[0mopen\u001b[0m\u001b[0;34m(\u001b[0m\u001b[0mname\u001b[0m\u001b[0;34m,\u001b[0m \u001b[0mflags\u001b[0m\u001b[0;34m,\u001b[0m \u001b[0mfapl\u001b[0m\u001b[0;34m=\u001b[0m\u001b[0mfapl\u001b[0m\u001b[0;34m)\u001b[0m\u001b[0;34m\u001b[0m\u001b[0m\n\u001b[0m\u001b[1;32m     93\u001b[0m     \u001b[0;32melif\u001b[0m \u001b[0mmode\u001b[0m \u001b[0;34m==\u001b[0m \u001b[0;34m'r+'\u001b[0m\u001b[0;34m:\u001b[0m\u001b[0;34m\u001b[0m\u001b[0m\n\u001b[1;32m     94\u001b[0m         \u001b[0mfid\u001b[0m \u001b[0;34m=\u001b[0m \u001b[0mh5f\u001b[0m\u001b[0;34m.\u001b[0m\u001b[0mopen\u001b[0m\u001b[0;34m(\u001b[0m\u001b[0mname\u001b[0m\u001b[0;34m,\u001b[0m \u001b[0mh5f\u001b[0m\u001b[0;34m.\u001b[0m\u001b[0mACC_RDWR\u001b[0m\u001b[0;34m,\u001b[0m \u001b[0mfapl\u001b[0m\u001b[0;34m=\u001b[0m\u001b[0mfapl\u001b[0m\u001b[0;34m)\u001b[0m\u001b[0;34m\u001b[0m\u001b[0m\n",
      "\u001b[0;32mh5py/_objects.pyx\u001b[0m in \u001b[0;36mh5py._objects.with_phil.wrapper (/Users/travis/miniconda3/conda-bld/recipe_1486534808152/work/h5py-2.6.0/h5py/_objects.c:2849)\u001b[0;34m()\u001b[0m\n",
      "\u001b[0;32mh5py/_objects.pyx\u001b[0m in \u001b[0;36mh5py._objects.with_phil.wrapper (/Users/travis/miniconda3/conda-bld/recipe_1486534808152/work/h5py-2.6.0/h5py/_objects.c:2807)\u001b[0;34m()\u001b[0m\n",
      "\u001b[0;32mh5py/h5f.pyx\u001b[0m in \u001b[0;36mh5py.h5f.open (/Users/travis/miniconda3/conda-bld/recipe_1486534808152/work/h5py-2.6.0/h5py/h5f.c:2102)\u001b[0;34m()\u001b[0m\n",
      "\u001b[0;31mOSError\u001b[0m: Unable to open file (Unable to open file: name = '/users/willbuxton/data/model.h5', errno = 2, error message = 'no such file or directory', flags = 0, o_flags = 0)"
     ]
    }
   ],
   "source": [
    "model = load_model(\"/Users/willbuxton/data/model.h5\")"
   ]
  },
  {
   "cell_type": "code",
   "execution_count": 43,
   "metadata": {
    "collapsed": true,
    "deletable": true,
    "editable": true
   },
   "outputs": [],
   "source": [
    "class delay():\n",
    "    def __init__(self):        \n",
    "        self.delay = 10\n",
    "        self.space = 0\n",
    "delay = delay()"
   ]
  },
  {
   "cell_type": "code",
   "execution_count": 44,
   "metadata": {
    "collapsed": true,
    "deletable": true,
    "editable": true
   },
   "outputs": [],
   "source": [
    "def getImages():\n",
    "    image0 = []\n",
    "    image1 = []\n",
    "    image2 = []\n",
    "    for i in range(delay.delay):\n",
    "        ret0, frame0 = cap0.read()\n",
    "        ret1, frame1 = cap1.read()\n",
    "        ret2, frame2 = cap2.read()\n",
    "        image0.append(frame0)\n",
    "        image1.append(frame1)\n",
    "        image2.append(frame2)\n",
    "    P0 = np.array(image0)\n",
    "    P1 = np.array(image1)\n",
    "    P2 = np.array(image2)\n",
    "    predictions = predict(self, [P0, P1, P2], batch_size=32, verbose=0)\n",
    "    result = stats.mode(predictions, axis=None)\n",
    "    if result[0] == 'z':\n",
    "        delay.delay += 2\n",
    "        return' '\n",
    "    if result[0] == 'x':\n",
    "        delay.delay -= 2\n",
    "        return' '\n",
    "    return result[0]"
   ]
  },
  {
   "cell_type": "code",
   "execution_count": 48,
   "metadata": {
    "collapsed": false,
    "deletable": true,
    "editable": true
   },
   "outputs": [],
   "source": [
    "def getLetter(morse):\n",
    "    realText = ''\n",
    "    if(letter == '._'):\n",
    "        realText = 'a'\n",
    "    elif(letter == '._'):\n",
    "        realText = 'b'\n",
    "    elif(letter == '___.'):\n",
    "        realText = 'c'\n",
    "    elif(letter == '_..'):\n",
    "        realText = 'd'\n",
    "    elif(letter == '.'):\n",
    "        realText = 'e'\n",
    "    elif(letter == '.._.'):\n",
    "        realText = 'f'\n",
    "    elif(letter == '__.'):\n",
    "        realText = 'g'\n",
    "    elif(letter == '....'):\n",
    "        realText = 'h'\n",
    "    elif(letter == '..'):\n",
    "        realText = 'i'\n",
    "    elif(letter == '.___'):\n",
    "        realText = 'j'\n",
    "    elif(letter == '_._'):\n",
    "        realText = 'k'\n",
    "    elif(letter == '._..'):\n",
    "        realText = 'l'\n",
    "    elif(letter == '____'):\n",
    "        realText = 'm'\n",
    "    elif(letter == '_.'):\n",
    "        realText = 'n'\n",
    "    elif(letter == '___'):\n",
    "        realText = 'o'\n",
    "    elif(letter == '.__.'):\n",
    "        realText = 'p'\n",
    "    elif(letter == '__._'):\n",
    "        realText = 'q'\n",
    "    elif(letter == '._.'):\n",
    "        realText = 'r'\n",
    "    elif(letter == '...'):\n",
    "        realText = 's'\n",
    "    elif(letter == '_'):\n",
    "        realText = 't'\n",
    "    elif(letter == '.._'):\n",
    "        realText = 'u'\n",
    "    elif(letter == '..._'):\n",
    "        realText = 'v'\n",
    "    elif(letter == '.__'):\n",
    "        realText = 'w'\n",
    "    elif(letter == '_.._'):\n",
    "        realText = 'x'\n",
    "    elif(letter == '_.__'):\n",
    "        realText = 'y'\n",
    "    elif(letter == '__..'):\n",
    "        realText = 'z'\n",
    "    elif(letter == '.____'):\n",
    "        realText = '1'\n",
    "    elif(letter == '..___'):\n",
    "        realText = '2'\n",
    "    elif(letter == '...__'):\n",
    "        realText = '3'\n",
    "    elif(letter == '...._'):\n",
    "        realText = '4'\n",
    "    elif(letter == '.....'):\n",
    "        realText = '5'\n",
    "    elif(letter == '_....'):\n",
    "        realText = '6'\n",
    "    elif(letter == '__...'):\n",
    "        realText = '7'\n",
    "    elif(letter == '___..'):\n",
    "        realText = '8'\n",
    "    elif(letter == '____.'):\n",
    "        realText = '9'\n",
    "    elif(letter == '_____'):\n",
    "        realText = '0'\n",
    "    elif(letter == '____..'):\n",
    "        realText = '\\\\'\n",
    "    elif(letter == '....__'):\n",
    "        realText = '/'\n",
    "    elif(letter == '.__...'):\n",
    "        realText = '['\n",
    "    elif(letter == '_..___'):\n",
    "        realText = ']'\n",
    "    elif(letter == '__..__'):\n",
    "        realText = '<'\n",
    "    elif(letter == '..__..'):\n",
    "        realText = '>'\n",
    "    elif(letter == '___...'):\n",
    "        realText = ')'\n",
    "    elif(letter == '...___'):\n",
    "        realText = '('\n",
    "    elif(letter == '__.._'):\n",
    "        realText = '{'\n",
    "    elif(letter == '..__.'):\n",
    "        realText = '}'\n",
    "    elif(letter == '._____'):\n",
    "        realText = '.'\n",
    "    elif(letter == '_.....'):\n",
    "        realText = ','\n",
    "    elif(letter == '____._'):\n",
    "        realText = '_'\n",
    "    elif(letter == '...._.'):\n",
    "        realText = '|'\n",
    "    elif(letter == '_.____'):\n",
    "        realText = '?'\n",
    "    elif(letter == '._....'):\n",
    "        realText = '!'\n",
    "    elif(letter == '_...._'):\n",
    "        realText = ';'\n",
    "    elif(letter == '.____.'):\n",
    "        realText = ':'\n",
    "    elif(letter == '.___.'):\n",
    "        realText = '-'\n",
    "    elif(letter == '..____'):\n",
    "        realText = '$'\n",
    "    elif(letter == '..._._'):\n",
    "        realText = '%'\n",
    "    elif(letter == '...__.'):\n",
    "        realText = '\"'\n",
    "    elif(letter == '___.._'):\n",
    "        realText = '@'\n",
    "    elif(letter == '.._...'):\n",
    "        realText = '\\''\n",
    "    elif(letter == '__.___'):\n",
    "        realText = '`'\n",
    "    elif(letter == '_...__'):\n",
    "        realText = '^'\n",
    "    elif(letter == '___.__'):\n",
    "        realText = '~'\n",
    "    elif(letter == '..___.'):\n",
    "        realText = '#'\n",
    "    elif(letter == '.___..'):\n",
    "        realText = '&'\n",
    "    elif(letter == '_..._'):\n",
    "        realText = '+'\n",
    "    elif(letter == '___._'):\n",
    "        realText = '='\n",
    "    elif(letter == '_..__'):\n",
    "        realText = '*'\n",
    "    elif(letter == 'e' or letter == 's'):\n",
    "        realText = 'speak'\n",
    "    else:\n",
    "        return ''\n",
    "    return realText"
   ]
  },
  {
   "cell_type": "code",
   "execution_count": 52,
   "metadata": {
    "collapsed": false,
    "deletable": true,
    "editable": true
   },
   "outputs": [],
   "source": [
    "import os\n",
    "\n",
    "def getChar(minThresh = 3, maxThresh = 2):\n",
    "    char = ''\n",
    "    space = ''\n",
    "    delay.space = 0\n",
    "    while True:\n",
    "        current = getImages()\n",
    "        char += current\n",
    "        if char == ' ':\n",
    "            delay.space += 1\n",
    "        else:\n",
    "            delay.space == 0\n",
    "        if delay.space >= minThresh:\n",
    "            space = getImages()\n",
    "            if space == ' ':\n",
    "                space = getImages()\n",
    "                if space == ' ':\n",
    "                    return getLetter(char) + ' '\n",
    "            break\n",
    "    return getLetter(char)\n",
    "def getPhrase():\n",
    "    phrase = \"\"\n",
    "    while True:\n",
    "        char = getChar()\n",
    "        if char == 'enter':\n",
    "            os.system(\"say ' \" + phrase + \" '\")\n",
    "            break\n",
    "        phrase += char      "
   ]
  },
  {
   "cell_type": "code",
   "execution_count": 53,
   "metadata": {
    "collapsed": false,
    "deletable": true,
    "editable": true
   },
   "outputs": [
    {
     "ename": "NameError",
     "evalue": "name 'cap0' is not defined",
     "output_type": "error",
     "traceback": [
      "\u001b[0;31m---------------------------------------------------------------------------\u001b[0m",
      "\u001b[0;31mNameError\u001b[0m                                 Traceback (most recent call last)",
      "\u001b[0;32m<ipython-input-53-7d9ed302a6d4>\u001b[0m in \u001b[0;36m<module>\u001b[0;34m()\u001b[0m\n\u001b[1;32m      1\u001b[0m \u001b[0;32mwhile\u001b[0m \u001b[0;32mTrue\u001b[0m\u001b[0;34m:\u001b[0m\u001b[0;34m\u001b[0m\u001b[0m\n\u001b[0;32m----> 2\u001b[0;31m     \u001b[0mgetPhrase\u001b[0m\u001b[0;34m(\u001b[0m\u001b[0;34m)\u001b[0m\u001b[0;34m\u001b[0m\u001b[0m\n\u001b[0m",
      "\u001b[0;32m<ipython-input-52-d68b6be8d4ef>\u001b[0m in \u001b[0;36mgetPhrase\u001b[0;34m()\u001b[0m\n\u001b[1;32m     23\u001b[0m     \u001b[0mphrase\u001b[0m \u001b[0;34m=\u001b[0m \u001b[0;34m\"\"\u001b[0m\u001b[0;34m\u001b[0m\u001b[0m\n\u001b[1;32m     24\u001b[0m     \u001b[0;32mwhile\u001b[0m \u001b[0;32mTrue\u001b[0m\u001b[0;34m:\u001b[0m\u001b[0;34m\u001b[0m\u001b[0m\n\u001b[0;32m---> 25\u001b[0;31m         \u001b[0mchar\u001b[0m \u001b[0;34m=\u001b[0m \u001b[0mgetChar\u001b[0m\u001b[0;34m(\u001b[0m\u001b[0;34m)\u001b[0m\u001b[0;34m\u001b[0m\u001b[0m\n\u001b[0m\u001b[1;32m     26\u001b[0m         \u001b[0;32mif\u001b[0m \u001b[0mchar\u001b[0m \u001b[0;34m==\u001b[0m \u001b[0;34m'enter'\u001b[0m\u001b[0;34m:\u001b[0m\u001b[0;34m\u001b[0m\u001b[0m\n\u001b[1;32m     27\u001b[0m             \u001b[0mos\u001b[0m\u001b[0;34m.\u001b[0m\u001b[0msystem\u001b[0m\u001b[0;34m(\u001b[0m\u001b[0;34m\"say ' \"\u001b[0m \u001b[0;34m+\u001b[0m \u001b[0mphrase\u001b[0m \u001b[0;34m+\u001b[0m \u001b[0;34m\" '\"\u001b[0m\u001b[0;34m)\u001b[0m\u001b[0;34m\u001b[0m\u001b[0m\n",
      "\u001b[0;32m<ipython-input-52-d68b6be8d4ef>\u001b[0m in \u001b[0;36mgetChar\u001b[0;34m(minThresh, maxThresh)\u001b[0m\n\u001b[1;32m      6\u001b[0m     \u001b[0mdelay\u001b[0m\u001b[0;34m.\u001b[0m\u001b[0mspace\u001b[0m \u001b[0;34m=\u001b[0m \u001b[0;36m0\u001b[0m\u001b[0;34m\u001b[0m\u001b[0m\n\u001b[1;32m      7\u001b[0m     \u001b[0;32mwhile\u001b[0m \u001b[0;32mTrue\u001b[0m\u001b[0;34m:\u001b[0m\u001b[0;34m\u001b[0m\u001b[0m\n\u001b[0;32m----> 8\u001b[0;31m         \u001b[0mcurrent\u001b[0m \u001b[0;34m=\u001b[0m \u001b[0mgetImages\u001b[0m\u001b[0;34m(\u001b[0m\u001b[0;34m)\u001b[0m\u001b[0;34m\u001b[0m\u001b[0m\n\u001b[0m\u001b[1;32m      9\u001b[0m         \u001b[0mchar\u001b[0m \u001b[0;34m+=\u001b[0m \u001b[0mcurrent\u001b[0m\u001b[0;34m\u001b[0m\u001b[0m\n\u001b[1;32m     10\u001b[0m         \u001b[0;32mif\u001b[0m \u001b[0mchar\u001b[0m \u001b[0;34m==\u001b[0m \u001b[0;34m' '\u001b[0m\u001b[0;34m:\u001b[0m\u001b[0;34m\u001b[0m\u001b[0m\n",
      "\u001b[0;32m<ipython-input-44-01024ab6f46b>\u001b[0m in \u001b[0;36mgetImages\u001b[0;34m()\u001b[0m\n\u001b[1;32m      4\u001b[0m     \u001b[0mimage2\u001b[0m \u001b[0;34m=\u001b[0m \u001b[0;34m[\u001b[0m\u001b[0;34m]\u001b[0m\u001b[0;34m\u001b[0m\u001b[0m\n\u001b[1;32m      5\u001b[0m     \u001b[0;32mfor\u001b[0m \u001b[0mi\u001b[0m \u001b[0;32min\u001b[0m \u001b[0mrange\u001b[0m\u001b[0;34m(\u001b[0m\u001b[0mdelay\u001b[0m\u001b[0;34m.\u001b[0m\u001b[0mdelay\u001b[0m\u001b[0;34m)\u001b[0m\u001b[0;34m:\u001b[0m\u001b[0;34m\u001b[0m\u001b[0m\n\u001b[0;32m----> 6\u001b[0;31m         \u001b[0mret0\u001b[0m\u001b[0;34m,\u001b[0m \u001b[0mframe0\u001b[0m \u001b[0;34m=\u001b[0m \u001b[0mcap0\u001b[0m\u001b[0;34m.\u001b[0m\u001b[0mread\u001b[0m\u001b[0;34m(\u001b[0m\u001b[0;34m)\u001b[0m\u001b[0;34m\u001b[0m\u001b[0m\n\u001b[0m\u001b[1;32m      7\u001b[0m         \u001b[0mret1\u001b[0m\u001b[0;34m,\u001b[0m \u001b[0mframe1\u001b[0m \u001b[0;34m=\u001b[0m \u001b[0mcap1\u001b[0m\u001b[0;34m.\u001b[0m\u001b[0mread\u001b[0m\u001b[0;34m(\u001b[0m\u001b[0;34m)\u001b[0m\u001b[0;34m\u001b[0m\u001b[0m\n\u001b[1;32m      8\u001b[0m         \u001b[0mret2\u001b[0m\u001b[0;34m,\u001b[0m \u001b[0mframe2\u001b[0m \u001b[0;34m=\u001b[0m \u001b[0mcap2\u001b[0m\u001b[0;34m.\u001b[0m\u001b[0mread\u001b[0m\u001b[0;34m(\u001b[0m\u001b[0;34m)\u001b[0m\u001b[0;34m\u001b[0m\u001b[0m\n",
      "\u001b[0;31mNameError\u001b[0m: name 'cap0' is not defined"
     ]
    }
   ],
   "source": [
    "while True:\n",
    "    getPhrase()"
   ]
  },
  {
   "cell_type": "code",
   "execution_count": null,
   "metadata": {
    "collapsed": true,
    "deletable": true,
    "editable": true
   },
   "outputs": [],
   "source": []
  }
 ],
 "metadata": {
  "kernelspec": {
   "display_name": "Python 3",
   "language": "python",
   "name": "python3"
  },
  "language_info": {
   "codemirror_mode": {
    "name": "ipython",
    "version": 3
   },
   "file_extension": ".py",
   "mimetype": "text/x-python",
   "name": "python",
   "nbconvert_exporter": "python",
   "pygments_lexer": "ipython3",
   "version": "3.5.2"
  },
  "widgets": {
   "state": {},
   "version": "1.1.2"
  }
 },
 "nbformat": 4,
 "nbformat_minor": 2
}
